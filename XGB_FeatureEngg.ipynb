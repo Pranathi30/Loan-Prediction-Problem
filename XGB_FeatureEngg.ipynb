{
 "cells": [
  {
   "cell_type": "code",
   "execution_count": 3,
   "metadata": {
    "colab": {
     "autoexec": {
      "startup": false,
      "wait_interval": 0
     },
     "base_uri": "https://localhost:8080/",
     "height": 68,
     "output_extras": [
      {
       "item_id": 1
      }
     ]
    },
    "colab_type": "code",
    "executionInfo": {
     "elapsed": 3316,
     "status": "ok",
     "timestamp": 1520272146860,
     "user": {
      "displayName": "supreeth manyam",
      "photoUrl": "//lh4.googleusercontent.com/-aVZz9tAWcOg/AAAAAAAAAAI/AAAAAAAADgo/ujE6nBlZRb4/s50-c-k-no/photo.jpg",
      "userId": "101630335836908726643"
     },
     "user_tz": -330
    },
    "id": "wq7IfVV6smlX",
    "outputId": "b4d6e865-8262-47fa-99e1-25fb55c58419"
   },
   "outputs": [
    {
     "name": "stdout",
     "output_type": "stream",
     "text": [
      "Requirement already satisfied: xgboost==0.7.post3 in /usr/local/lib/python3.6/dist-packages\r\n",
      "Requirement already satisfied: scipy in /usr/local/lib/python3.6/dist-packages (from xgboost==0.7.post3)\r\n",
      "Requirement already satisfied: numpy in /usr/local/lib/python3.6/dist-packages (from xgboost==0.7.post3)\r\n"
     ]
    }
   ],
   "source": [
    "#!pip install xgboost==0.7.post3"
   ]
  },
  {
   "cell_type": "code",
   "execution_count": 102,
   "metadata": {
    "colab": {
     "autoexec": {
      "startup": false,
      "wait_interval": 0
     }
    },
    "colab_type": "code",
    "collapsed": true,
    "id": "5OhNqT27qJQo"
   },
   "outputs": [],
   "source": [
    "import pandas as pd\n",
    "import numpy as np\n",
    "import io\n",
    "\n",
    "from sklearn.model_selection import train_test_split\n",
    "\n",
    "import xgboost as xgb\n",
    "\n",
    "from sklearn.metrics import accuracy_score"
   ]
  },
  {
   "cell_type": "code",
   "execution_count": 103,
   "metadata": {
    "colab": {
     "autoexec": {
      "startup": false,
      "wait_interval": 0
     }
    },
    "colab_type": "code",
    "collapsed": true,
    "id": "OHp_-eXHKoYK"
   },
   "outputs": [],
   "source": [
    "SEED = 30051993"
   ]
  },
  {
   "cell_type": "code",
   "execution_count": 104,
   "metadata": {
    "colab": {
     "autoexec": {
      "startup": false,
      "wait_interval": 0
     },
     "base_uri": "https://localhost:8080/",
     "height": 34,
     "output_extras": [
      {
       "item_id": 1
      }
     ]
    },
    "colab_type": "code",
    "executionInfo": {
     "elapsed": 811,
     "status": "ok",
     "timestamp": 1520274640905,
     "user": {
      "displayName": "supreeth manyam",
      "photoUrl": "//lh4.googleusercontent.com/-aVZz9tAWcOg/AAAAAAAAAAI/AAAAAAAADgo/ujE6nBlZRb4/s50-c-k-no/photo.jpg",
      "userId": "101630335836908726643"
     },
     "user_tz": -330
    },
    "id": "zeFh6np8SCSs",
    "outputId": "40979767-a32c-4dda-d8fe-f84c4c0b8972"
   },
   "outputs": [
    {
     "data": {
      "text/plain": [
       "'0.7'"
      ]
     },
     "execution_count": 104,
     "metadata": {},
     "output_type": "execute_result"
    }
   ],
   "source": [
    "xgb.__version__"
   ]
  },
  {
   "cell_type": "code",
   "execution_count": 105,
   "metadata": {
    "colab": {
     "autoexec": {
      "startup": false,
      "wait_interval": 0
     }
    },
    "colab_type": "code",
    "collapsed": true,
    "id": "hxB65Hyyq5fW"
   },
   "outputs": [],
   "source": [
    "#train = pd.read_csv(io.StringIO(uploaded[\"train_u6lujuX_CVtuZ9i.csv\"].decode(\"utf-8\")))\n",
    "#test = pd.read_csv(io.StringIO(uploaded[\"test_Y3wMUE5_7gLdaTN.csv\"].decode(\"utf-8\")))"
   ]
  },
  {
   "cell_type": "code",
   "execution_count": 106,
   "metadata": {
    "collapsed": true
   },
   "outputs": [],
   "source": [
    "train=pd.read_csv(\"train_u6lujuX_CVtuZ9i.csv\")\n",
    "test=pd.read_csv(\"test_Y3wMUE5_7gLdaTN.csv\")"
   ]
  },
  {
   "cell_type": "code",
   "execution_count": 107,
   "metadata": {
    "colab": {
     "autoexec": {
      "startup": false,
      "wait_interval": 0
     }
    },
    "colab_type": "code",
    "collapsed": true,
    "id": "_jykbXNLsSc5"
   },
   "outputs": [],
   "source": [
    "def display_all(df):\n",
    "    with pd.option_context(\"display.max_rows\", 1000, \"display.max_columns\", 1000): \n",
    "        display(df)"
   ]
  },
  {
   "cell_type": "code",
   "execution_count": 108,
   "metadata": {
    "colab": {
     "autoexec": {
      "startup": false,
      "wait_interval": 0
     },
     "base_uri": "https://localhost:8080/",
     "height": 421,
     "output_extras": [
      {
       "item_id": 1
      }
     ]
    },
    "colab_type": "code",
    "executionInfo": {
     "elapsed": 1094,
     "status": "ok",
     "timestamp": 1520274644084,
     "user": {
      "displayName": "supreeth manyam",
      "photoUrl": "//lh4.googleusercontent.com/-aVZz9tAWcOg/AAAAAAAAAAI/AAAAAAAADgo/ujE6nBlZRb4/s50-c-k-no/photo.jpg",
      "userId": "101630335836908726643"
     },
     "user_tz": -330
    },
    "id": "fA7s85DQ9p09",
    "outputId": "dbe28ed5-c00b-46e4-ee9d-42a93a5fcc1b"
   },
   "outputs": [
    {
     "data": {
      "text/html": [
       "<div>\n",
       "<style>\n",
       "    .dataframe thead tr:only-child th {\n",
       "        text-align: right;\n",
       "    }\n",
       "\n",
       "    .dataframe thead th {\n",
       "        text-align: left;\n",
       "    }\n",
       "\n",
       "    .dataframe tbody tr th {\n",
       "        vertical-align: top;\n",
       "    }\n",
       "</style>\n",
       "<table border=\"1\" class=\"dataframe\">\n",
       "  <thead>\n",
       "    <tr style=\"text-align: right;\">\n",
       "      <th></th>\n",
       "      <th>357</th>\n",
       "      <th>358</th>\n",
       "      <th>359</th>\n",
       "      <th>360</th>\n",
       "      <th>361</th>\n",
       "      <th>362</th>\n",
       "      <th>363</th>\n",
       "      <th>364</th>\n",
       "      <th>365</th>\n",
       "      <th>366</th>\n",
       "    </tr>\n",
       "  </thead>\n",
       "  <tbody>\n",
       "    <tr>\n",
       "      <th>Loan_ID</th>\n",
       "      <td>LP002952</td>\n",
       "      <td>LP002954</td>\n",
       "      <td>LP002962</td>\n",
       "      <td>LP002965</td>\n",
       "      <td>LP002969</td>\n",
       "      <td>LP002971</td>\n",
       "      <td>LP002975</td>\n",
       "      <td>LP002980</td>\n",
       "      <td>LP002986</td>\n",
       "      <td>LP002989</td>\n",
       "    </tr>\n",
       "    <tr>\n",
       "      <th>Gender</th>\n",
       "      <td>Male</td>\n",
       "      <td>Male</td>\n",
       "      <td>Male</td>\n",
       "      <td>Female</td>\n",
       "      <td>Male</td>\n",
       "      <td>Male</td>\n",
       "      <td>Male</td>\n",
       "      <td>Male</td>\n",
       "      <td>Male</td>\n",
       "      <td>Male</td>\n",
       "    </tr>\n",
       "    <tr>\n",
       "      <th>Married</th>\n",
       "      <td>No</td>\n",
       "      <td>Yes</td>\n",
       "      <td>No</td>\n",
       "      <td>Yes</td>\n",
       "      <td>Yes</td>\n",
       "      <td>Yes</td>\n",
       "      <td>Yes</td>\n",
       "      <td>No</td>\n",
       "      <td>Yes</td>\n",
       "      <td>No</td>\n",
       "    </tr>\n",
       "    <tr>\n",
       "      <th>Dependents</th>\n",
       "      <td>0</td>\n",
       "      <td>2</td>\n",
       "      <td>0</td>\n",
       "      <td>0</td>\n",
       "      <td>1</td>\n",
       "      <td>3+</td>\n",
       "      <td>0</td>\n",
       "      <td>0</td>\n",
       "      <td>0</td>\n",
       "      <td>0</td>\n",
       "    </tr>\n",
       "    <tr>\n",
       "      <th>Education</th>\n",
       "      <td>Graduate</td>\n",
       "      <td>Not Graduate</td>\n",
       "      <td>Graduate</td>\n",
       "      <td>Graduate</td>\n",
       "      <td>Graduate</td>\n",
       "      <td>Not Graduate</td>\n",
       "      <td>Graduate</td>\n",
       "      <td>Graduate</td>\n",
       "      <td>Graduate</td>\n",
       "      <td>Graduate</td>\n",
       "    </tr>\n",
       "    <tr>\n",
       "      <th>Self_Employed</th>\n",
       "      <td>No</td>\n",
       "      <td>No</td>\n",
       "      <td>No</td>\n",
       "      <td>No</td>\n",
       "      <td>No</td>\n",
       "      <td>Yes</td>\n",
       "      <td>No</td>\n",
       "      <td>No</td>\n",
       "      <td>No</td>\n",
       "      <td>Yes</td>\n",
       "    </tr>\n",
       "    <tr>\n",
       "      <th>ApplicantIncome</th>\n",
       "      <td>2500</td>\n",
       "      <td>3132</td>\n",
       "      <td>4000</td>\n",
       "      <td>8550</td>\n",
       "      <td>2269</td>\n",
       "      <td>4009</td>\n",
       "      <td>4158</td>\n",
       "      <td>3250</td>\n",
       "      <td>5000</td>\n",
       "      <td>9200</td>\n",
       "    </tr>\n",
       "    <tr>\n",
       "      <th>CoapplicantIncome</th>\n",
       "      <td>0</td>\n",
       "      <td>0</td>\n",
       "      <td>2667</td>\n",
       "      <td>4255</td>\n",
       "      <td>2167</td>\n",
       "      <td>1777</td>\n",
       "      <td>709</td>\n",
       "      <td>1993</td>\n",
       "      <td>2393</td>\n",
       "      <td>0</td>\n",
       "    </tr>\n",
       "    <tr>\n",
       "      <th>LoanAmount</th>\n",
       "      <td>60</td>\n",
       "      <td>76</td>\n",
       "      <td>152</td>\n",
       "      <td>96</td>\n",
       "      <td>99</td>\n",
       "      <td>113</td>\n",
       "      <td>115</td>\n",
       "      <td>126</td>\n",
       "      <td>158</td>\n",
       "      <td>98</td>\n",
       "    </tr>\n",
       "    <tr>\n",
       "      <th>Loan_Amount_Term</th>\n",
       "      <td>360</td>\n",
       "      <td>360</td>\n",
       "      <td>360</td>\n",
       "      <td>360</td>\n",
       "      <td>360</td>\n",
       "      <td>360</td>\n",
       "      <td>360</td>\n",
       "      <td>360</td>\n",
       "      <td>360</td>\n",
       "      <td>180</td>\n",
       "    </tr>\n",
       "    <tr>\n",
       "      <th>Credit_History</th>\n",
       "      <td>1</td>\n",
       "      <td>NaN</td>\n",
       "      <td>1</td>\n",
       "      <td>NaN</td>\n",
       "      <td>1</td>\n",
       "      <td>1</td>\n",
       "      <td>1</td>\n",
       "      <td>NaN</td>\n",
       "      <td>1</td>\n",
       "      <td>1</td>\n",
       "    </tr>\n",
       "    <tr>\n",
       "      <th>Property_Area</th>\n",
       "      <td>Urban</td>\n",
       "      <td>Rural</td>\n",
       "      <td>Semiurban</td>\n",
       "      <td>Urban</td>\n",
       "      <td>Semiurban</td>\n",
       "      <td>Urban</td>\n",
       "      <td>Urban</td>\n",
       "      <td>Semiurban</td>\n",
       "      <td>Rural</td>\n",
       "      <td>Rural</td>\n",
       "    </tr>\n",
       "  </tbody>\n",
       "</table>\n",
       "</div>"
      ],
      "text/plain": [
       "                        357           358        359       360        361  \\\n",
       "Loan_ID            LP002952      LP002954   LP002962  LP002965   LP002969   \n",
       "Gender                 Male          Male       Male    Female       Male   \n",
       "Married                  No           Yes         No       Yes        Yes   \n",
       "Dependents                0             2          0         0          1   \n",
       "Education          Graduate  Not Graduate   Graduate  Graduate   Graduate   \n",
       "Self_Employed            No            No         No        No         No   \n",
       "ApplicantIncome        2500          3132       4000      8550       2269   \n",
       "CoapplicantIncome         0             0       2667      4255       2167   \n",
       "LoanAmount               60            76        152        96         99   \n",
       "Loan_Amount_Term        360           360        360       360        360   \n",
       "Credit_History            1           NaN          1       NaN          1   \n",
       "Property_Area         Urban         Rural  Semiurban     Urban  Semiurban   \n",
       "\n",
       "                            362       363        364       365       366  \n",
       "Loan_ID                LP002971  LP002975   LP002980  LP002986  LP002989  \n",
       "Gender                     Male      Male       Male      Male      Male  \n",
       "Married                     Yes       Yes         No       Yes        No  \n",
       "Dependents                   3+         0          0         0         0  \n",
       "Education          Not Graduate  Graduate   Graduate  Graduate  Graduate  \n",
       "Self_Employed               Yes        No         No        No       Yes  \n",
       "ApplicantIncome            4009      4158       3250      5000      9200  \n",
       "CoapplicantIncome          1777       709       1993      2393         0  \n",
       "LoanAmount                  113       115        126       158        98  \n",
       "Loan_Amount_Term            360       360        360       360       180  \n",
       "Credit_History                1         1        NaN         1         1  \n",
       "Property_Area             Urban     Urban  Semiurban     Rural     Rural  "
      ]
     },
     "metadata": {},
     "output_type": "display_data"
    }
   ],
   "source": [
    "display_all(test.tail(10).transpose())"
   ]
  },
  {
   "cell_type": "code",
   "execution_count": 109,
   "metadata": {
    "colab": {
     "autoexec": {
      "startup": false,
      "wait_interval": 0
     },
     "base_uri": "https://localhost:8080/",
     "height": 421,
     "output_extras": [
      {
       "item_id": 1
      }
     ]
    },
    "colab_type": "code",
    "executionInfo": {
     "elapsed": 844,
     "status": "ok",
     "timestamp": 1520274645118,
     "user": {
      "displayName": "supreeth manyam",
      "photoUrl": "//lh4.googleusercontent.com/-aVZz9tAWcOg/AAAAAAAAAAI/AAAAAAAADgo/ujE6nBlZRb4/s50-c-k-no/photo.jpg",
      "userId": "101630335836908726643"
     },
     "user_tz": -330
    },
    "id": "XiDsMyLB9tGi",
    "outputId": "30979bb6-c4d6-4cba-8e3a-a825b59710be"
   },
   "outputs": [
    {
     "data": {
      "text/html": [
       "<div>\n",
       "<style>\n",
       "    .dataframe thead tr:only-child th {\n",
       "        text-align: right;\n",
       "    }\n",
       "\n",
       "    .dataframe thead th {\n",
       "        text-align: left;\n",
       "    }\n",
       "\n",
       "    .dataframe tbody tr th {\n",
       "        vertical-align: top;\n",
       "    }\n",
       "</style>\n",
       "<table border=\"1\" class=\"dataframe\">\n",
       "  <thead>\n",
       "    <tr style=\"text-align: right;\">\n",
       "      <th></th>\n",
       "      <th>count</th>\n",
       "      <th>unique</th>\n",
       "      <th>top</th>\n",
       "      <th>freq</th>\n",
       "      <th>mean</th>\n",
       "      <th>std</th>\n",
       "      <th>min</th>\n",
       "      <th>25%</th>\n",
       "      <th>50%</th>\n",
       "      <th>75%</th>\n",
       "      <th>max</th>\n",
       "    </tr>\n",
       "  </thead>\n",
       "  <tbody>\n",
       "    <tr>\n",
       "      <th>Loan_ID</th>\n",
       "      <td>367</td>\n",
       "      <td>367</td>\n",
       "      <td>LP002111</td>\n",
       "      <td>1</td>\n",
       "      <td>NaN</td>\n",
       "      <td>NaN</td>\n",
       "      <td>NaN</td>\n",
       "      <td>NaN</td>\n",
       "      <td>NaN</td>\n",
       "      <td>NaN</td>\n",
       "      <td>NaN</td>\n",
       "    </tr>\n",
       "    <tr>\n",
       "      <th>Gender</th>\n",
       "      <td>356</td>\n",
       "      <td>2</td>\n",
       "      <td>Male</td>\n",
       "      <td>286</td>\n",
       "      <td>NaN</td>\n",
       "      <td>NaN</td>\n",
       "      <td>NaN</td>\n",
       "      <td>NaN</td>\n",
       "      <td>NaN</td>\n",
       "      <td>NaN</td>\n",
       "      <td>NaN</td>\n",
       "    </tr>\n",
       "    <tr>\n",
       "      <th>Married</th>\n",
       "      <td>367</td>\n",
       "      <td>2</td>\n",
       "      <td>Yes</td>\n",
       "      <td>233</td>\n",
       "      <td>NaN</td>\n",
       "      <td>NaN</td>\n",
       "      <td>NaN</td>\n",
       "      <td>NaN</td>\n",
       "      <td>NaN</td>\n",
       "      <td>NaN</td>\n",
       "      <td>NaN</td>\n",
       "    </tr>\n",
       "    <tr>\n",
       "      <th>Dependents</th>\n",
       "      <td>357</td>\n",
       "      <td>4</td>\n",
       "      <td>0</td>\n",
       "      <td>200</td>\n",
       "      <td>NaN</td>\n",
       "      <td>NaN</td>\n",
       "      <td>NaN</td>\n",
       "      <td>NaN</td>\n",
       "      <td>NaN</td>\n",
       "      <td>NaN</td>\n",
       "      <td>NaN</td>\n",
       "    </tr>\n",
       "    <tr>\n",
       "      <th>Education</th>\n",
       "      <td>367</td>\n",
       "      <td>2</td>\n",
       "      <td>Graduate</td>\n",
       "      <td>283</td>\n",
       "      <td>NaN</td>\n",
       "      <td>NaN</td>\n",
       "      <td>NaN</td>\n",
       "      <td>NaN</td>\n",
       "      <td>NaN</td>\n",
       "      <td>NaN</td>\n",
       "      <td>NaN</td>\n",
       "    </tr>\n",
       "    <tr>\n",
       "      <th>Self_Employed</th>\n",
       "      <td>344</td>\n",
       "      <td>2</td>\n",
       "      <td>No</td>\n",
       "      <td>307</td>\n",
       "      <td>NaN</td>\n",
       "      <td>NaN</td>\n",
       "      <td>NaN</td>\n",
       "      <td>NaN</td>\n",
       "      <td>NaN</td>\n",
       "      <td>NaN</td>\n",
       "      <td>NaN</td>\n",
       "    </tr>\n",
       "    <tr>\n",
       "      <th>ApplicantIncome</th>\n",
       "      <td>367</td>\n",
       "      <td>NaN</td>\n",
       "      <td>NaN</td>\n",
       "      <td>NaN</td>\n",
       "      <td>4805.6</td>\n",
       "      <td>4910.69</td>\n",
       "      <td>0</td>\n",
       "      <td>2864</td>\n",
       "      <td>3786</td>\n",
       "      <td>5060</td>\n",
       "      <td>72529</td>\n",
       "    </tr>\n",
       "    <tr>\n",
       "      <th>CoapplicantIncome</th>\n",
       "      <td>367</td>\n",
       "      <td>NaN</td>\n",
       "      <td>NaN</td>\n",
       "      <td>NaN</td>\n",
       "      <td>1569.58</td>\n",
       "      <td>2334.23</td>\n",
       "      <td>0</td>\n",
       "      <td>0</td>\n",
       "      <td>1025</td>\n",
       "      <td>2430.5</td>\n",
       "      <td>24000</td>\n",
       "    </tr>\n",
       "    <tr>\n",
       "      <th>LoanAmount</th>\n",
       "      <td>362</td>\n",
       "      <td>NaN</td>\n",
       "      <td>NaN</td>\n",
       "      <td>NaN</td>\n",
       "      <td>136.133</td>\n",
       "      <td>61.3667</td>\n",
       "      <td>28</td>\n",
       "      <td>100.25</td>\n",
       "      <td>125</td>\n",
       "      <td>158</td>\n",
       "      <td>550</td>\n",
       "    </tr>\n",
       "    <tr>\n",
       "      <th>Loan_Amount_Term</th>\n",
       "      <td>361</td>\n",
       "      <td>NaN</td>\n",
       "      <td>NaN</td>\n",
       "      <td>NaN</td>\n",
       "      <td>342.537</td>\n",
       "      <td>65.1566</td>\n",
       "      <td>6</td>\n",
       "      <td>360</td>\n",
       "      <td>360</td>\n",
       "      <td>360</td>\n",
       "      <td>480</td>\n",
       "    </tr>\n",
       "    <tr>\n",
       "      <th>Credit_History</th>\n",
       "      <td>338</td>\n",
       "      <td>NaN</td>\n",
       "      <td>NaN</td>\n",
       "      <td>NaN</td>\n",
       "      <td>0.825444</td>\n",
       "      <td>0.38015</td>\n",
       "      <td>0</td>\n",
       "      <td>1</td>\n",
       "      <td>1</td>\n",
       "      <td>1</td>\n",
       "      <td>1</td>\n",
       "    </tr>\n",
       "    <tr>\n",
       "      <th>Property_Area</th>\n",
       "      <td>367</td>\n",
       "      <td>3</td>\n",
       "      <td>Urban</td>\n",
       "      <td>140</td>\n",
       "      <td>NaN</td>\n",
       "      <td>NaN</td>\n",
       "      <td>NaN</td>\n",
       "      <td>NaN</td>\n",
       "      <td>NaN</td>\n",
       "      <td>NaN</td>\n",
       "      <td>NaN</td>\n",
       "    </tr>\n",
       "  </tbody>\n",
       "</table>\n",
       "</div>"
      ],
      "text/plain": [
       "                  count unique       top freq      mean      std  min     25%  \\\n",
       "Loan_ID             367    367  LP002111    1       NaN      NaN  NaN     NaN   \n",
       "Gender              356      2      Male  286       NaN      NaN  NaN     NaN   \n",
       "Married             367      2       Yes  233       NaN      NaN  NaN     NaN   \n",
       "Dependents          357      4         0  200       NaN      NaN  NaN     NaN   \n",
       "Education           367      2  Graduate  283       NaN      NaN  NaN     NaN   \n",
       "Self_Employed       344      2        No  307       NaN      NaN  NaN     NaN   \n",
       "ApplicantIncome     367    NaN       NaN  NaN    4805.6  4910.69    0    2864   \n",
       "CoapplicantIncome   367    NaN       NaN  NaN   1569.58  2334.23    0       0   \n",
       "LoanAmount          362    NaN       NaN  NaN   136.133  61.3667   28  100.25   \n",
       "Loan_Amount_Term    361    NaN       NaN  NaN   342.537  65.1566    6     360   \n",
       "Credit_History      338    NaN       NaN  NaN  0.825444  0.38015    0       1   \n",
       "Property_Area       367      3     Urban  140       NaN      NaN  NaN     NaN   \n",
       "\n",
       "                    50%     75%    max  \n",
       "Loan_ID             NaN     NaN    NaN  \n",
       "Gender              NaN     NaN    NaN  \n",
       "Married             NaN     NaN    NaN  \n",
       "Dependents          NaN     NaN    NaN  \n",
       "Education           NaN     NaN    NaN  \n",
       "Self_Employed       NaN     NaN    NaN  \n",
       "ApplicantIncome    3786    5060  72529  \n",
       "CoapplicantIncome  1025  2430.5  24000  \n",
       "LoanAmount          125     158    550  \n",
       "Loan_Amount_Term    360     360    480  \n",
       "Credit_History        1       1      1  \n",
       "Property_Area       NaN     NaN    NaN  "
      ]
     },
     "execution_count": 109,
     "metadata": {},
     "output_type": "execute_result"
    }
   ],
   "source": [
    "test.describe(include='all').transpose()"
   ]
  },
  {
   "cell_type": "code",
   "execution_count": 110,
   "metadata": {
    "colab": {
     "autoexec": {
      "startup": false,
      "wait_interval": 0
     },
     "base_uri": "https://localhost:8080/",
     "height": 452,
     "output_extras": [
      {
       "item_id": 1
      }
     ]
    },
    "colab_type": "code",
    "executionInfo": {
     "elapsed": 689,
     "status": "ok",
     "timestamp": 1520274646058,
     "user": {
      "displayName": "supreeth manyam",
      "photoUrl": "//lh4.googleusercontent.com/-aVZz9tAWcOg/AAAAAAAAAAI/AAAAAAAADgo/ujE6nBlZRb4/s50-c-k-no/photo.jpg",
      "userId": "101630335836908726643"
     },
     "user_tz": -330
    },
    "id": "AyFqNS4LGyO3",
    "outputId": "adae9ac6-309a-4d59-f334-74858d6ca208"
   },
   "outputs": [
    {
     "data": {
      "text/html": [
       "<div>\n",
       "<style>\n",
       "    .dataframe thead tr:only-child th {\n",
       "        text-align: right;\n",
       "    }\n",
       "\n",
       "    .dataframe thead th {\n",
       "        text-align: left;\n",
       "    }\n",
       "\n",
       "    .dataframe tbody tr th {\n",
       "        vertical-align: top;\n",
       "    }\n",
       "</style>\n",
       "<table border=\"1\" class=\"dataframe\">\n",
       "  <thead>\n",
       "    <tr style=\"text-align: right;\">\n",
       "      <th></th>\n",
       "      <th>604</th>\n",
       "      <th>605</th>\n",
       "      <th>606</th>\n",
       "      <th>607</th>\n",
       "      <th>608</th>\n",
       "      <th>609</th>\n",
       "      <th>610</th>\n",
       "      <th>611</th>\n",
       "      <th>612</th>\n",
       "      <th>613</th>\n",
       "    </tr>\n",
       "  </thead>\n",
       "  <tbody>\n",
       "    <tr>\n",
       "      <th>Loan_ID</th>\n",
       "      <td>LP002959</td>\n",
       "      <td>LP002960</td>\n",
       "      <td>LP002961</td>\n",
       "      <td>LP002964</td>\n",
       "      <td>LP002974</td>\n",
       "      <td>LP002978</td>\n",
       "      <td>LP002979</td>\n",
       "      <td>LP002983</td>\n",
       "      <td>LP002984</td>\n",
       "      <td>LP002990</td>\n",
       "    </tr>\n",
       "    <tr>\n",
       "      <th>Gender</th>\n",
       "      <td>Female</td>\n",
       "      <td>Male</td>\n",
       "      <td>Male</td>\n",
       "      <td>Male</td>\n",
       "      <td>Male</td>\n",
       "      <td>Female</td>\n",
       "      <td>Male</td>\n",
       "      <td>Male</td>\n",
       "      <td>Male</td>\n",
       "      <td>Female</td>\n",
       "    </tr>\n",
       "    <tr>\n",
       "      <th>Married</th>\n",
       "      <td>Yes</td>\n",
       "      <td>Yes</td>\n",
       "      <td>Yes</td>\n",
       "      <td>Yes</td>\n",
       "      <td>Yes</td>\n",
       "      <td>No</td>\n",
       "      <td>Yes</td>\n",
       "      <td>Yes</td>\n",
       "      <td>Yes</td>\n",
       "      <td>No</td>\n",
       "    </tr>\n",
       "    <tr>\n",
       "      <th>Dependents</th>\n",
       "      <td>1</td>\n",
       "      <td>0</td>\n",
       "      <td>1</td>\n",
       "      <td>2</td>\n",
       "      <td>0</td>\n",
       "      <td>0</td>\n",
       "      <td>3+</td>\n",
       "      <td>1</td>\n",
       "      <td>2</td>\n",
       "      <td>0</td>\n",
       "    </tr>\n",
       "    <tr>\n",
       "      <th>Education</th>\n",
       "      <td>Graduate</td>\n",
       "      <td>Not Graduate</td>\n",
       "      <td>Graduate</td>\n",
       "      <td>Not Graduate</td>\n",
       "      <td>Graduate</td>\n",
       "      <td>Graduate</td>\n",
       "      <td>Graduate</td>\n",
       "      <td>Graduate</td>\n",
       "      <td>Graduate</td>\n",
       "      <td>Graduate</td>\n",
       "    </tr>\n",
       "    <tr>\n",
       "      <th>Self_Employed</th>\n",
       "      <td>No</td>\n",
       "      <td>No</td>\n",
       "      <td>No</td>\n",
       "      <td>No</td>\n",
       "      <td>No</td>\n",
       "      <td>No</td>\n",
       "      <td>No</td>\n",
       "      <td>No</td>\n",
       "      <td>No</td>\n",
       "      <td>Yes</td>\n",
       "    </tr>\n",
       "    <tr>\n",
       "      <th>ApplicantIncome</th>\n",
       "      <td>12000</td>\n",
       "      <td>2400</td>\n",
       "      <td>3400</td>\n",
       "      <td>3987</td>\n",
       "      <td>3232</td>\n",
       "      <td>2900</td>\n",
       "      <td>4106</td>\n",
       "      <td>8072</td>\n",
       "      <td>7583</td>\n",
       "      <td>4583</td>\n",
       "    </tr>\n",
       "    <tr>\n",
       "      <th>CoapplicantIncome</th>\n",
       "      <td>0</td>\n",
       "      <td>3800</td>\n",
       "      <td>2500</td>\n",
       "      <td>1411</td>\n",
       "      <td>1950</td>\n",
       "      <td>0</td>\n",
       "      <td>0</td>\n",
       "      <td>240</td>\n",
       "      <td>0</td>\n",
       "      <td>0</td>\n",
       "    </tr>\n",
       "    <tr>\n",
       "      <th>LoanAmount</th>\n",
       "      <td>496</td>\n",
       "      <td>NaN</td>\n",
       "      <td>173</td>\n",
       "      <td>157</td>\n",
       "      <td>108</td>\n",
       "      <td>71</td>\n",
       "      <td>40</td>\n",
       "      <td>253</td>\n",
       "      <td>187</td>\n",
       "      <td>133</td>\n",
       "    </tr>\n",
       "    <tr>\n",
       "      <th>Loan_Amount_Term</th>\n",
       "      <td>360</td>\n",
       "      <td>180</td>\n",
       "      <td>360</td>\n",
       "      <td>360</td>\n",
       "      <td>360</td>\n",
       "      <td>360</td>\n",
       "      <td>180</td>\n",
       "      <td>360</td>\n",
       "      <td>360</td>\n",
       "      <td>360</td>\n",
       "    </tr>\n",
       "    <tr>\n",
       "      <th>Credit_History</th>\n",
       "      <td>1</td>\n",
       "      <td>1</td>\n",
       "      <td>1</td>\n",
       "      <td>1</td>\n",
       "      <td>1</td>\n",
       "      <td>1</td>\n",
       "      <td>1</td>\n",
       "      <td>1</td>\n",
       "      <td>1</td>\n",
       "      <td>0</td>\n",
       "    </tr>\n",
       "    <tr>\n",
       "      <th>Property_Area</th>\n",
       "      <td>Semiurban</td>\n",
       "      <td>Urban</td>\n",
       "      <td>Semiurban</td>\n",
       "      <td>Rural</td>\n",
       "      <td>Rural</td>\n",
       "      <td>Rural</td>\n",
       "      <td>Rural</td>\n",
       "      <td>Urban</td>\n",
       "      <td>Urban</td>\n",
       "      <td>Semiurban</td>\n",
       "    </tr>\n",
       "    <tr>\n",
       "      <th>Loan_Status</th>\n",
       "      <td>Y</td>\n",
       "      <td>N</td>\n",
       "      <td>Y</td>\n",
       "      <td>Y</td>\n",
       "      <td>Y</td>\n",
       "      <td>Y</td>\n",
       "      <td>Y</td>\n",
       "      <td>Y</td>\n",
       "      <td>Y</td>\n",
       "      <td>N</td>\n",
       "    </tr>\n",
       "  </tbody>\n",
       "</table>\n",
       "</div>"
      ],
      "text/plain": [
       "                         604           605        606           607       608  \\\n",
       "Loan_ID             LP002959      LP002960   LP002961      LP002964  LP002974   \n",
       "Gender                Female          Male       Male          Male      Male   \n",
       "Married                  Yes           Yes        Yes           Yes       Yes   \n",
       "Dependents                 1             0          1             2         0   \n",
       "Education           Graduate  Not Graduate   Graduate  Not Graduate  Graduate   \n",
       "Self_Employed             No            No         No            No        No   \n",
       "ApplicantIncome        12000          2400       3400          3987      3232   \n",
       "CoapplicantIncome          0          3800       2500          1411      1950   \n",
       "LoanAmount               496           NaN        173           157       108   \n",
       "Loan_Amount_Term         360           180        360           360       360   \n",
       "Credit_History             1             1          1             1         1   \n",
       "Property_Area      Semiurban         Urban  Semiurban         Rural     Rural   \n",
       "Loan_Status                Y             N          Y             Y         Y   \n",
       "\n",
       "                        609       610       611       612        613  \n",
       "Loan_ID            LP002978  LP002979  LP002983  LP002984   LP002990  \n",
       "Gender               Female      Male      Male      Male     Female  \n",
       "Married                  No       Yes       Yes       Yes         No  \n",
       "Dependents                0        3+         1         2          0  \n",
       "Education          Graduate  Graduate  Graduate  Graduate   Graduate  \n",
       "Self_Employed            No        No        No        No        Yes  \n",
       "ApplicantIncome        2900      4106      8072      7583       4583  \n",
       "CoapplicantIncome         0         0       240         0          0  \n",
       "LoanAmount               71        40       253       187        133  \n",
       "Loan_Amount_Term        360       180       360       360        360  \n",
       "Credit_History            1         1         1         1          0  \n",
       "Property_Area         Rural     Rural     Urban     Urban  Semiurban  \n",
       "Loan_Status               Y         Y         Y         Y          N  "
      ]
     },
     "metadata": {},
     "output_type": "display_data"
    }
   ],
   "source": [
    "display_all(train.tail(10).transpose())"
   ]
  },
  {
   "cell_type": "code",
   "execution_count": 111,
   "metadata": {
    "colab": {
     "autoexec": {
      "startup": false,
      "wait_interval": 0
     },
     "base_uri": "https://localhost:8080/",
     "height": 452,
     "output_extras": [
      {
       "item_id": 1
      }
     ]
    },
    "colab_type": "code",
    "executionInfo": {
     "elapsed": 704,
     "status": "ok",
     "timestamp": 1520274647048,
     "user": {
      "displayName": "supreeth manyam",
      "photoUrl": "//lh4.googleusercontent.com/-aVZz9tAWcOg/AAAAAAAAAAI/AAAAAAAADgo/ujE6nBlZRb4/s50-c-k-no/photo.jpg",
      "userId": "101630335836908726643"
     },
     "user_tz": -330
    },
    "id": "J9aJzhZUG0oh",
    "outputId": "df97f472-f523-4230-afc6-63b005ed840c"
   },
   "outputs": [
    {
     "data": {
      "text/html": [
       "<div>\n",
       "<style>\n",
       "    .dataframe thead tr:only-child th {\n",
       "        text-align: right;\n",
       "    }\n",
       "\n",
       "    .dataframe thead th {\n",
       "        text-align: left;\n",
       "    }\n",
       "\n",
       "    .dataframe tbody tr th {\n",
       "        vertical-align: top;\n",
       "    }\n",
       "</style>\n",
       "<table border=\"1\" class=\"dataframe\">\n",
       "  <thead>\n",
       "    <tr style=\"text-align: right;\">\n",
       "      <th></th>\n",
       "      <th>count</th>\n",
       "      <th>unique</th>\n",
       "      <th>top</th>\n",
       "      <th>freq</th>\n",
       "      <th>mean</th>\n",
       "      <th>std</th>\n",
       "      <th>min</th>\n",
       "      <th>25%</th>\n",
       "      <th>50%</th>\n",
       "      <th>75%</th>\n",
       "      <th>max</th>\n",
       "    </tr>\n",
       "  </thead>\n",
       "  <tbody>\n",
       "    <tr>\n",
       "      <th>Loan_ID</th>\n",
       "      <td>614</td>\n",
       "      <td>614</td>\n",
       "      <td>LP002682</td>\n",
       "      <td>1</td>\n",
       "      <td>NaN</td>\n",
       "      <td>NaN</td>\n",
       "      <td>NaN</td>\n",
       "      <td>NaN</td>\n",
       "      <td>NaN</td>\n",
       "      <td>NaN</td>\n",
       "      <td>NaN</td>\n",
       "    </tr>\n",
       "    <tr>\n",
       "      <th>Gender</th>\n",
       "      <td>601</td>\n",
       "      <td>2</td>\n",
       "      <td>Male</td>\n",
       "      <td>489</td>\n",
       "      <td>NaN</td>\n",
       "      <td>NaN</td>\n",
       "      <td>NaN</td>\n",
       "      <td>NaN</td>\n",
       "      <td>NaN</td>\n",
       "      <td>NaN</td>\n",
       "      <td>NaN</td>\n",
       "    </tr>\n",
       "    <tr>\n",
       "      <th>Married</th>\n",
       "      <td>611</td>\n",
       "      <td>2</td>\n",
       "      <td>Yes</td>\n",
       "      <td>398</td>\n",
       "      <td>NaN</td>\n",
       "      <td>NaN</td>\n",
       "      <td>NaN</td>\n",
       "      <td>NaN</td>\n",
       "      <td>NaN</td>\n",
       "      <td>NaN</td>\n",
       "      <td>NaN</td>\n",
       "    </tr>\n",
       "    <tr>\n",
       "      <th>Dependents</th>\n",
       "      <td>599</td>\n",
       "      <td>4</td>\n",
       "      <td>0</td>\n",
       "      <td>345</td>\n",
       "      <td>NaN</td>\n",
       "      <td>NaN</td>\n",
       "      <td>NaN</td>\n",
       "      <td>NaN</td>\n",
       "      <td>NaN</td>\n",
       "      <td>NaN</td>\n",
       "      <td>NaN</td>\n",
       "    </tr>\n",
       "    <tr>\n",
       "      <th>Education</th>\n",
       "      <td>614</td>\n",
       "      <td>2</td>\n",
       "      <td>Graduate</td>\n",
       "      <td>480</td>\n",
       "      <td>NaN</td>\n",
       "      <td>NaN</td>\n",
       "      <td>NaN</td>\n",
       "      <td>NaN</td>\n",
       "      <td>NaN</td>\n",
       "      <td>NaN</td>\n",
       "      <td>NaN</td>\n",
       "    </tr>\n",
       "    <tr>\n",
       "      <th>Self_Employed</th>\n",
       "      <td>582</td>\n",
       "      <td>2</td>\n",
       "      <td>No</td>\n",
       "      <td>500</td>\n",
       "      <td>NaN</td>\n",
       "      <td>NaN</td>\n",
       "      <td>NaN</td>\n",
       "      <td>NaN</td>\n",
       "      <td>NaN</td>\n",
       "      <td>NaN</td>\n",
       "      <td>NaN</td>\n",
       "    </tr>\n",
       "    <tr>\n",
       "      <th>ApplicantIncome</th>\n",
       "      <td>614</td>\n",
       "      <td>NaN</td>\n",
       "      <td>NaN</td>\n",
       "      <td>NaN</td>\n",
       "      <td>5403.46</td>\n",
       "      <td>6109.04</td>\n",
       "      <td>150</td>\n",
       "      <td>2877.5</td>\n",
       "      <td>3812.5</td>\n",
       "      <td>5795</td>\n",
       "      <td>81000</td>\n",
       "    </tr>\n",
       "    <tr>\n",
       "      <th>CoapplicantIncome</th>\n",
       "      <td>614</td>\n",
       "      <td>NaN</td>\n",
       "      <td>NaN</td>\n",
       "      <td>NaN</td>\n",
       "      <td>1621.25</td>\n",
       "      <td>2926.25</td>\n",
       "      <td>0</td>\n",
       "      <td>0</td>\n",
       "      <td>1188.5</td>\n",
       "      <td>2297.25</td>\n",
       "      <td>41667</td>\n",
       "    </tr>\n",
       "    <tr>\n",
       "      <th>LoanAmount</th>\n",
       "      <td>592</td>\n",
       "      <td>NaN</td>\n",
       "      <td>NaN</td>\n",
       "      <td>NaN</td>\n",
       "      <td>146.412</td>\n",
       "      <td>85.5873</td>\n",
       "      <td>9</td>\n",
       "      <td>100</td>\n",
       "      <td>128</td>\n",
       "      <td>168</td>\n",
       "      <td>700</td>\n",
       "    </tr>\n",
       "    <tr>\n",
       "      <th>Loan_Amount_Term</th>\n",
       "      <td>600</td>\n",
       "      <td>NaN</td>\n",
       "      <td>NaN</td>\n",
       "      <td>NaN</td>\n",
       "      <td>342</td>\n",
       "      <td>65.1204</td>\n",
       "      <td>12</td>\n",
       "      <td>360</td>\n",
       "      <td>360</td>\n",
       "      <td>360</td>\n",
       "      <td>480</td>\n",
       "    </tr>\n",
       "    <tr>\n",
       "      <th>Credit_History</th>\n",
       "      <td>564</td>\n",
       "      <td>NaN</td>\n",
       "      <td>NaN</td>\n",
       "      <td>NaN</td>\n",
       "      <td>0.842199</td>\n",
       "      <td>0.364878</td>\n",
       "      <td>0</td>\n",
       "      <td>1</td>\n",
       "      <td>1</td>\n",
       "      <td>1</td>\n",
       "      <td>1</td>\n",
       "    </tr>\n",
       "    <tr>\n",
       "      <th>Property_Area</th>\n",
       "      <td>614</td>\n",
       "      <td>3</td>\n",
       "      <td>Semiurban</td>\n",
       "      <td>233</td>\n",
       "      <td>NaN</td>\n",
       "      <td>NaN</td>\n",
       "      <td>NaN</td>\n",
       "      <td>NaN</td>\n",
       "      <td>NaN</td>\n",
       "      <td>NaN</td>\n",
       "      <td>NaN</td>\n",
       "    </tr>\n",
       "    <tr>\n",
       "      <th>Loan_Status</th>\n",
       "      <td>614</td>\n",
       "      <td>2</td>\n",
       "      <td>Y</td>\n",
       "      <td>422</td>\n",
       "      <td>NaN</td>\n",
       "      <td>NaN</td>\n",
       "      <td>NaN</td>\n",
       "      <td>NaN</td>\n",
       "      <td>NaN</td>\n",
       "      <td>NaN</td>\n",
       "      <td>NaN</td>\n",
       "    </tr>\n",
       "  </tbody>\n",
       "</table>\n",
       "</div>"
      ],
      "text/plain": [
       "                  count unique        top freq      mean       std  min  \\\n",
       "Loan_ID             614    614   LP002682    1       NaN       NaN  NaN   \n",
       "Gender              601      2       Male  489       NaN       NaN  NaN   \n",
       "Married             611      2        Yes  398       NaN       NaN  NaN   \n",
       "Dependents          599      4          0  345       NaN       NaN  NaN   \n",
       "Education           614      2   Graduate  480       NaN       NaN  NaN   \n",
       "Self_Employed       582      2         No  500       NaN       NaN  NaN   \n",
       "ApplicantIncome     614    NaN        NaN  NaN   5403.46   6109.04  150   \n",
       "CoapplicantIncome   614    NaN        NaN  NaN   1621.25   2926.25    0   \n",
       "LoanAmount          592    NaN        NaN  NaN   146.412   85.5873    9   \n",
       "Loan_Amount_Term    600    NaN        NaN  NaN       342   65.1204   12   \n",
       "Credit_History      564    NaN        NaN  NaN  0.842199  0.364878    0   \n",
       "Property_Area       614      3  Semiurban  233       NaN       NaN  NaN   \n",
       "Loan_Status         614      2          Y  422       NaN       NaN  NaN   \n",
       "\n",
       "                      25%     50%      75%    max  \n",
       "Loan_ID               NaN     NaN      NaN    NaN  \n",
       "Gender                NaN     NaN      NaN    NaN  \n",
       "Married               NaN     NaN      NaN    NaN  \n",
       "Dependents            NaN     NaN      NaN    NaN  \n",
       "Education             NaN     NaN      NaN    NaN  \n",
       "Self_Employed         NaN     NaN      NaN    NaN  \n",
       "ApplicantIncome    2877.5  3812.5     5795  81000  \n",
       "CoapplicantIncome       0  1188.5  2297.25  41667  \n",
       "LoanAmount            100     128      168    700  \n",
       "Loan_Amount_Term      360     360      360    480  \n",
       "Credit_History          1       1        1      1  \n",
       "Property_Area         NaN     NaN      NaN    NaN  \n",
       "Loan_Status           NaN     NaN      NaN    NaN  "
      ]
     },
     "execution_count": 111,
     "metadata": {},
     "output_type": "execute_result"
    }
   ],
   "source": [
    "train.describe(include='all').transpose()"
   ]
  },
  {
   "cell_type": "code",
   "execution_count": 112,
   "metadata": {
    "colab": {
     "autoexec": {
      "startup": false,
      "wait_interval": 0
     }
    },
    "colab_type": "code",
    "collapsed": true,
    "id": "iBW4gqfADZH3"
   },
   "outputs": [],
   "source": [
    "def preprocess(df, target_col=None):\n",
    "  data = df.copy(deep=True)\n",
    "  data['Gender'] = data['Gender'].replace({'Male': 1, 'Female': 0}).fillna(-1).astype(int)\n",
    "  data['Married'] = data['Married'].replace({'Yes': 1, 'No': 0}).fillna(-1).astype(int)\n",
    "  data['Dependents'] = data['Dependents'].str.rstrip('+').fillna(0).astype(int)\n",
    "  data['Education'] = data['Education'].replace({'Graduate': 1, 'Not Graduate': 0})\n",
    "  data['Self_Employed'] = data['Self_Employed'].replace({'Yes': 1, 'No': 0}).fillna(-1).astype(int)\n",
    "  data['LoanAmount'] = data['LoanAmount'].fillna(0)\n",
    "  data['Loan_Amount_Term'] = data['Loan_Amount_Term'].fillna(0)\n",
    "  data['Credit_History'] = data['Credit_History'].fillna(-1)\n",
    "  data['Property_Area'] = data['Property_Area'].replace({'Rural': 0, 'Semiurban': 1, 'Urban': 2})\n",
    "  if target_col and (target_col in data.columns):\n",
    "    data[target_col] = data[target_col].replace({'Y':1, 'N': 0})\n",
    "    \n",
    "  # Feature 1\n",
    "  data['Loan_Income_ratio'] = data['LoanAmount']/(data['ApplicantIncome']+data['CoapplicantIncome'])\n",
    "  # Feature 2\n",
    "  data['Income_per_dependent'] = (data['ApplicantIncome']+data['CoapplicantIncome'])/(data['Dependents']+1)\n",
    "  return data"
   ]
  },
  {
   "cell_type": "code",
   "execution_count": 113,
   "metadata": {
    "colab": {
     "autoexec": {
      "startup": false,
      "wait_interval": 0
     }
    },
    "colab_type": "code",
    "collapsed": true,
    "id": "_kHKCg3kHG6w"
   },
   "outputs": [],
   "source": [
    "X_train = preprocess(train, 'Loan_Status')"
   ]
  },
  {
   "cell_type": "code",
   "execution_count": 114,
   "metadata": {
    "colab": {
     "autoexec": {
      "startup": false,
      "wait_interval": 0
     },
     "base_uri": "https://localhost:8080/",
     "height": 224,
     "output_extras": [
      {
       "item_id": 1
      }
     ]
    },
    "colab_type": "code",
    "executionInfo": {
     "elapsed": 805,
     "status": "ok",
     "timestamp": 1520274649819,
     "user": {
      "displayName": "supreeth manyam",
      "photoUrl": "//lh4.googleusercontent.com/-aVZz9tAWcOg/AAAAAAAAAAI/AAAAAAAADgo/ujE6nBlZRb4/s50-c-k-no/photo.jpg",
      "userId": "101630335836908726643"
     },
     "user_tz": -330
    },
    "id": "F2c0jbfkHOUE",
    "outputId": "33d0c608-85f0-43b4-b131-9b9b3cb87602"
   },
   "outputs": [
    {
     "data": {
      "text/html": [
       "<div>\n",
       "<style>\n",
       "    .dataframe thead tr:only-child th {\n",
       "        text-align: right;\n",
       "    }\n",
       "\n",
       "    .dataframe thead th {\n",
       "        text-align: left;\n",
       "    }\n",
       "\n",
       "    .dataframe tbody tr th {\n",
       "        vertical-align: top;\n",
       "    }\n",
       "</style>\n",
       "<table border=\"1\" class=\"dataframe\">\n",
       "  <thead>\n",
       "    <tr style=\"text-align: right;\">\n",
       "      <th></th>\n",
       "      <th>Loan_ID</th>\n",
       "      <th>Gender</th>\n",
       "      <th>Married</th>\n",
       "      <th>Dependents</th>\n",
       "      <th>Education</th>\n",
       "      <th>Self_Employed</th>\n",
       "      <th>ApplicantIncome</th>\n",
       "      <th>CoapplicantIncome</th>\n",
       "      <th>LoanAmount</th>\n",
       "      <th>Loan_Amount_Term</th>\n",
       "      <th>Credit_History</th>\n",
       "      <th>Property_Area</th>\n",
       "      <th>Loan_Status</th>\n",
       "      <th>Loan_Income_ratio</th>\n",
       "      <th>Income_per_dependent</th>\n",
       "    </tr>\n",
       "  </thead>\n",
       "  <tbody>\n",
       "    <tr>\n",
       "      <th>0</th>\n",
       "      <td>LP001002</td>\n",
       "      <td>1</td>\n",
       "      <td>0</td>\n",
       "      <td>0</td>\n",
       "      <td>1</td>\n",
       "      <td>0</td>\n",
       "      <td>5849</td>\n",
       "      <td>0.0</td>\n",
       "      <td>0.0</td>\n",
       "      <td>360.0</td>\n",
       "      <td>1.0</td>\n",
       "      <td>2</td>\n",
       "      <td>1</td>\n",
       "      <td>0.000000</td>\n",
       "      <td>5849.0</td>\n",
       "    </tr>\n",
       "    <tr>\n",
       "      <th>1</th>\n",
       "      <td>LP001003</td>\n",
       "      <td>1</td>\n",
       "      <td>1</td>\n",
       "      <td>1</td>\n",
       "      <td>1</td>\n",
       "      <td>0</td>\n",
       "      <td>4583</td>\n",
       "      <td>1508.0</td>\n",
       "      <td>128.0</td>\n",
       "      <td>360.0</td>\n",
       "      <td>1.0</td>\n",
       "      <td>0</td>\n",
       "      <td>0</td>\n",
       "      <td>0.021015</td>\n",
       "      <td>3045.5</td>\n",
       "    </tr>\n",
       "    <tr>\n",
       "      <th>2</th>\n",
       "      <td>LP001005</td>\n",
       "      <td>1</td>\n",
       "      <td>1</td>\n",
       "      <td>0</td>\n",
       "      <td>1</td>\n",
       "      <td>1</td>\n",
       "      <td>3000</td>\n",
       "      <td>0.0</td>\n",
       "      <td>66.0</td>\n",
       "      <td>360.0</td>\n",
       "      <td>1.0</td>\n",
       "      <td>2</td>\n",
       "      <td>1</td>\n",
       "      <td>0.022000</td>\n",
       "      <td>3000.0</td>\n",
       "    </tr>\n",
       "    <tr>\n",
       "      <th>3</th>\n",
       "      <td>LP001006</td>\n",
       "      <td>1</td>\n",
       "      <td>1</td>\n",
       "      <td>0</td>\n",
       "      <td>0</td>\n",
       "      <td>0</td>\n",
       "      <td>2583</td>\n",
       "      <td>2358.0</td>\n",
       "      <td>120.0</td>\n",
       "      <td>360.0</td>\n",
       "      <td>1.0</td>\n",
       "      <td>2</td>\n",
       "      <td>1</td>\n",
       "      <td>0.024287</td>\n",
       "      <td>4941.0</td>\n",
       "    </tr>\n",
       "    <tr>\n",
       "      <th>4</th>\n",
       "      <td>LP001008</td>\n",
       "      <td>1</td>\n",
       "      <td>0</td>\n",
       "      <td>0</td>\n",
       "      <td>1</td>\n",
       "      <td>0</td>\n",
       "      <td>6000</td>\n",
       "      <td>0.0</td>\n",
       "      <td>141.0</td>\n",
       "      <td>360.0</td>\n",
       "      <td>1.0</td>\n",
       "      <td>2</td>\n",
       "      <td>1</td>\n",
       "      <td>0.023500</td>\n",
       "      <td>6000.0</td>\n",
       "    </tr>\n",
       "  </tbody>\n",
       "</table>\n",
       "</div>"
      ],
      "text/plain": [
       "    Loan_ID  Gender  Married  Dependents  Education  Self_Employed  \\\n",
       "0  LP001002       1        0           0          1              0   \n",
       "1  LP001003       1        1           1          1              0   \n",
       "2  LP001005       1        1           0          1              1   \n",
       "3  LP001006       1        1           0          0              0   \n",
       "4  LP001008       1        0           0          1              0   \n",
       "\n",
       "   ApplicantIncome  CoapplicantIncome  LoanAmount  Loan_Amount_Term  \\\n",
       "0             5849                0.0         0.0             360.0   \n",
       "1             4583             1508.0       128.0             360.0   \n",
       "2             3000                0.0        66.0             360.0   \n",
       "3             2583             2358.0       120.0             360.0   \n",
       "4             6000                0.0       141.0             360.0   \n",
       "\n",
       "   Credit_History  Property_Area  Loan_Status  Loan_Income_ratio  \\\n",
       "0             1.0              2            1           0.000000   \n",
       "1             1.0              0            0           0.021015   \n",
       "2             1.0              2            1           0.022000   \n",
       "3             1.0              2            1           0.024287   \n",
       "4             1.0              2            1           0.023500   \n",
       "\n",
       "   Income_per_dependent  \n",
       "0                5849.0  \n",
       "1                3045.5  \n",
       "2                3000.0  \n",
       "3                4941.0  \n",
       "4                6000.0  "
      ]
     },
     "execution_count": 114,
     "metadata": {},
     "output_type": "execute_result"
    }
   ],
   "source": [
    "X_train.head()"
   ]
  },
  {
   "cell_type": "code",
   "execution_count": 115,
   "metadata": {
    "colab": {
     "autoexec": {
      "startup": false,
      "wait_interval": 0
     }
    },
    "colab_type": "code",
    "collapsed": true,
    "id": "iHrcz5Z4HWrM"
   },
   "outputs": [],
   "source": [
    "X_test = preprocess(test)"
   ]
  },
  {
   "cell_type": "code",
   "execution_count": 116,
   "metadata": {
    "colab": {
     "autoexec": {
      "startup": false,
      "wait_interval": 0
     },
     "base_uri": "https://localhost:8080/",
     "height": 224,
     "output_extras": [
      {
       "item_id": 1
      }
     ]
    },
    "colab_type": "code",
    "executionInfo": {
     "elapsed": 1147,
     "status": "ok",
     "timestamp": 1520274652371,
     "user": {
      "displayName": "supreeth manyam",
      "photoUrl": "//lh4.googleusercontent.com/-aVZz9tAWcOg/AAAAAAAAAAI/AAAAAAAADgo/ujE6nBlZRb4/s50-c-k-no/photo.jpg",
      "userId": "101630335836908726643"
     },
     "user_tz": -330
    },
    "id": "oNfjdSclJPxV",
    "outputId": "99897aa7-f03b-4204-b827-15fef7151092"
   },
   "outputs": [
    {
     "data": {
      "text/html": [
       "<div>\n",
       "<style>\n",
       "    .dataframe thead tr:only-child th {\n",
       "        text-align: right;\n",
       "    }\n",
       "\n",
       "    .dataframe thead th {\n",
       "        text-align: left;\n",
       "    }\n",
       "\n",
       "    .dataframe tbody tr th {\n",
       "        vertical-align: top;\n",
       "    }\n",
       "</style>\n",
       "<table border=\"1\" class=\"dataframe\">\n",
       "  <thead>\n",
       "    <tr style=\"text-align: right;\">\n",
       "      <th></th>\n",
       "      <th>Loan_ID</th>\n",
       "      <th>Gender</th>\n",
       "      <th>Married</th>\n",
       "      <th>Dependents</th>\n",
       "      <th>Education</th>\n",
       "      <th>Self_Employed</th>\n",
       "      <th>ApplicantIncome</th>\n",
       "      <th>CoapplicantIncome</th>\n",
       "      <th>LoanAmount</th>\n",
       "      <th>Loan_Amount_Term</th>\n",
       "      <th>Credit_History</th>\n",
       "      <th>Property_Area</th>\n",
       "      <th>Loan_Income_ratio</th>\n",
       "      <th>Income_per_dependent</th>\n",
       "    </tr>\n",
       "  </thead>\n",
       "  <tbody>\n",
       "    <tr>\n",
       "      <th>0</th>\n",
       "      <td>LP001015</td>\n",
       "      <td>1</td>\n",
       "      <td>1</td>\n",
       "      <td>0</td>\n",
       "      <td>1</td>\n",
       "      <td>0</td>\n",
       "      <td>5720</td>\n",
       "      <td>0</td>\n",
       "      <td>110.0</td>\n",
       "      <td>360.0</td>\n",
       "      <td>1.0</td>\n",
       "      <td>2</td>\n",
       "      <td>0.019231</td>\n",
       "      <td>5720.000000</td>\n",
       "    </tr>\n",
       "    <tr>\n",
       "      <th>1</th>\n",
       "      <td>LP001022</td>\n",
       "      <td>1</td>\n",
       "      <td>1</td>\n",
       "      <td>1</td>\n",
       "      <td>1</td>\n",
       "      <td>0</td>\n",
       "      <td>3076</td>\n",
       "      <td>1500</td>\n",
       "      <td>126.0</td>\n",
       "      <td>360.0</td>\n",
       "      <td>1.0</td>\n",
       "      <td>2</td>\n",
       "      <td>0.027535</td>\n",
       "      <td>2288.000000</td>\n",
       "    </tr>\n",
       "    <tr>\n",
       "      <th>2</th>\n",
       "      <td>LP001031</td>\n",
       "      <td>1</td>\n",
       "      <td>1</td>\n",
       "      <td>2</td>\n",
       "      <td>1</td>\n",
       "      <td>0</td>\n",
       "      <td>5000</td>\n",
       "      <td>1800</td>\n",
       "      <td>208.0</td>\n",
       "      <td>360.0</td>\n",
       "      <td>1.0</td>\n",
       "      <td>2</td>\n",
       "      <td>0.030588</td>\n",
       "      <td>2266.666667</td>\n",
       "    </tr>\n",
       "    <tr>\n",
       "      <th>3</th>\n",
       "      <td>LP001035</td>\n",
       "      <td>1</td>\n",
       "      <td>1</td>\n",
       "      <td>2</td>\n",
       "      <td>1</td>\n",
       "      <td>0</td>\n",
       "      <td>2340</td>\n",
       "      <td>2546</td>\n",
       "      <td>100.0</td>\n",
       "      <td>360.0</td>\n",
       "      <td>-1.0</td>\n",
       "      <td>2</td>\n",
       "      <td>0.020467</td>\n",
       "      <td>1628.666667</td>\n",
       "    </tr>\n",
       "    <tr>\n",
       "      <th>4</th>\n",
       "      <td>LP001051</td>\n",
       "      <td>1</td>\n",
       "      <td>0</td>\n",
       "      <td>0</td>\n",
       "      <td>0</td>\n",
       "      <td>0</td>\n",
       "      <td>3276</td>\n",
       "      <td>0</td>\n",
       "      <td>78.0</td>\n",
       "      <td>360.0</td>\n",
       "      <td>1.0</td>\n",
       "      <td>2</td>\n",
       "      <td>0.023810</td>\n",
       "      <td>3276.000000</td>\n",
       "    </tr>\n",
       "  </tbody>\n",
       "</table>\n",
       "</div>"
      ],
      "text/plain": [
       "    Loan_ID  Gender  Married  Dependents  Education  Self_Employed  \\\n",
       "0  LP001015       1        1           0          1              0   \n",
       "1  LP001022       1        1           1          1              0   \n",
       "2  LP001031       1        1           2          1              0   \n",
       "3  LP001035       1        1           2          1              0   \n",
       "4  LP001051       1        0           0          0              0   \n",
       "\n",
       "   ApplicantIncome  CoapplicantIncome  LoanAmount  Loan_Amount_Term  \\\n",
       "0             5720                  0       110.0             360.0   \n",
       "1             3076               1500       126.0             360.0   \n",
       "2             5000               1800       208.0             360.0   \n",
       "3             2340               2546       100.0             360.0   \n",
       "4             3276                  0        78.0             360.0   \n",
       "\n",
       "   Credit_History  Property_Area  Loan_Income_ratio  Income_per_dependent  \n",
       "0             1.0              2           0.019231           5720.000000  \n",
       "1             1.0              2           0.027535           2288.000000  \n",
       "2             1.0              2           0.030588           2266.666667  \n",
       "3            -1.0              2           0.020467           1628.666667  \n",
       "4             1.0              2           0.023810           3276.000000  "
      ]
     },
     "execution_count": 116,
     "metadata": {},
     "output_type": "execute_result"
    }
   ],
   "source": [
    "X_test.head()"
   ]
  },
  {
   "cell_type": "code",
   "execution_count": 117,
   "metadata": {
    "colab": {
     "autoexec": {
      "startup": false,
      "wait_interval": 0
     }
    },
    "colab_type": "code",
    "collapsed": true,
    "id": "Ddyqom7JGGPu"
   },
   "outputs": [],
   "source": [
    "cols_for_model = np.setdiff1d(X_train.columns, ['Loan_ID', 'Loan_Status'])"
   ]
  },
  {
   "cell_type": "code",
   "execution_count": 118,
   "metadata": {
    "colab": {
     "autoexec": {
      "startup": false,
      "wait_interval": 0
     },
     "base_uri": "https://localhost:8080/",
     "height": 85,
     "output_extras": [
      {
       "item_id": 1
      }
     ]
    },
    "colab_type": "code",
    "executionInfo": {
     "elapsed": 666,
     "status": "ok",
     "timestamp": 1520274654141,
     "user": {
      "displayName": "supreeth manyam",
      "photoUrl": "//lh4.googleusercontent.com/-aVZz9tAWcOg/AAAAAAAAAAI/AAAAAAAADgo/ujE6nBlZRb4/s50-c-k-no/photo.jpg",
      "userId": "101630335836908726643"
     },
     "user_tz": -330
    },
    "id": "5wiyNms5GRTZ",
    "outputId": "4987a798-317b-4412-c78b-ddb913e82610"
   },
   "outputs": [
    {
     "data": {
      "text/plain": [
       "array(['ApplicantIncome', 'CoapplicantIncome', 'Credit_History',\n",
       "       'Dependents', 'Education', 'Gender', 'Income_per_dependent',\n",
       "       'LoanAmount', 'Loan_Amount_Term', 'Loan_Income_ratio', 'Married',\n",
       "       'Property_Area', 'Self_Employed'], dtype=object)"
      ]
     },
     "execution_count": 118,
     "metadata": {},
     "output_type": "execute_result"
    }
   ],
   "source": [
    "cols_for_model"
   ]
  },
  {
   "cell_type": "code",
   "execution_count": 119,
   "metadata": {
    "colab": {
     "autoexec": {
      "startup": false,
      "wait_interval": 0
     }
    },
    "colab_type": "code",
    "collapsed": true,
    "id": "24_WGeozPSgW"
   },
   "outputs": [],
   "source": [
    "dtrain = xgb.DMatrix(X_train[cols_for_model], X_train['Loan_Status'])\n",
    "dtest = xgb.DMatrix(X_test[cols_for_model])"
   ]
  },
  {
   "cell_type": "code",
   "execution_count": 120,
   "metadata": {
    "colab": {
     "autoexec": {
      "startup": false,
      "wait_interval": 0
     }
    },
    "colab_type": "code",
    "collapsed": true,
    "id": "4cvShpKkLSBm"
   },
   "outputs": [],
   "source": [
    "def accuracy_metric(preds, data):\n",
    "  labels = data.get_label()\n",
    "  preds = np.where(preds > 0.5, 1, 0)\n",
    "  return 'Accuracy', accuracy_score(labels, preds)"
   ]
  },
  {
   "cell_type": "code",
   "execution_count": 121,
   "metadata": {
    "colab": {
     "autoexec": {
      "startup": false,
      "wait_interval": 0
     }
    },
    "colab_type": "code",
    "collapsed": true,
    "id": "ISG3htKfKVSi"
   },
   "outputs": [],
   "source": [
    "params = {'objective': 'binary:logistic',\n",
    "          'booster': 'gbtree',\n",
    "          'nthread': 4,\n",
    "          'silent': 1,\n",
    "          'max_depth': 6,\n",
    "          'subsample': 0.9,\n",
    "          'min_child_weight': 1,\n",
    "          \"colsample_bytree\": 0.9,\n",
    "          'eta': 0.1,\n",
    "          'seed': SEED}"
   ]
  },
  {
   "cell_type": "code",
   "execution_count": 122,
   "metadata": {
    "colab": {
     "autoexec": {
      "startup": false,
      "wait_interval": 0
     },
     "base_uri": "https://localhost:8080/",
     "height": 238,
     "output_extras": [
      {
       "item_id": 1
      }
     ]
    },
    "colab_type": "code",
    "executionInfo": {
     "elapsed": 1211,
     "status": "ok",
     "timestamp": 1520274658517,
     "user": {
      "displayName": "supreeth manyam",
      "photoUrl": "//lh4.googleusercontent.com/-aVZz9tAWcOg/AAAAAAAAAAI/AAAAAAAADgo/ujE6nBlZRb4/s50-c-k-no/photo.jpg",
      "userId": "101630335836908726643"
     },
     "user_tz": -330
    },
    "id": "I_MJn3PIKLwz",
    "outputId": "2f05e8b3-dd83-4373-eab5-4eca05f2a7ca"
   },
   "outputs": [
    {
     "name": "stdout",
     "output_type": "stream",
     "text": [
      "[0]\ttrain-Accuracy:0.844913+0.0075836\ttrain-error:0.155086+0.0075836\ttest-Accuracy:0.757247+0.0408012\ttest-error:0.242753+0.0408012\n",
      "[1]\ttrain-Accuracy:0.852521+0.00870473\ttrain-error:0.147479+0.00870473\ttest-Accuracy:0.786651+0.037554\ttest-error:0.213349+0.037554\n",
      "[2]\ttrain-Accuracy:0.853964+0.00711592\ttrain-error:0.146036+0.00711592\ttest-Accuracy:0.793+0.0310112\ttest-error:0.207+0.0310112\n",
      "[3]\ttrain-Accuracy:0.853781+0.00612075\ttrain-error:0.146219+0.00612075\ttest-Accuracy:0.797866+0.0345533\ttest-error:0.202134+0.0345533\n",
      "[4]\ttrain-Accuracy:0.854866+0.00579812\ttrain-error:0.145134+0.00579812\ttest-Accuracy:0.799506+0.0309361\ttest-error:0.200494+0.0309361\n",
      "[5]\ttrain-Accuracy:0.856497+0.00523802\ttrain-error:0.143504+0.00523802\ttest-Accuracy:0.806115+0.0271441\ttest-error:0.193885+0.0271441\n",
      "[6]\ttrain-Accuracy:0.856858+0.00446348\ttrain-error:0.143142+0.00446348\ttest-Accuracy:0.807702+0.0258101\ttest-error:0.192298+0.0258101\n",
      "[7]\ttrain-Accuracy:0.858853+0.00697981\ttrain-error:0.141147+0.00697981\ttest-Accuracy:0.806115+0.0252195\ttest-error:0.193885+0.0252195\n",
      "[8]\ttrain-Accuracy:0.863558+0.00534783\ttrain-error:0.136442+0.00534783\ttest-Accuracy:0.807754+0.0244368\ttest-error:0.192246+0.0244368\n",
      "[9]\ttrain-Accuracy:0.863554+0.004807\ttrain-error:0.136446+0.004807\ttest-Accuracy:0.812568+0.0282663\ttest-error:0.187432+0.0282663\n",
      "[10]\ttrain-Accuracy:0.866632+0.00488526\ttrain-error:0.133368+0.00488526\ttest-Accuracy:0.810981+0.0260797\ttest-error:0.189019+0.0260797\n",
      "[11]\ttrain-Accuracy:0.866629+0.00348239\ttrain-error:0.133371+0.00348239\ttest-Accuracy:0.810981+0.0260797\ttest-error:0.189019+0.0260797\n",
      "[12]\ttrain-Accuracy:0.868079+0.00511751\ttrain-error:0.131921+0.00511751\ttest-Accuracy:0.814208+0.029094\ttest-error:0.185792+0.029094\n",
      "[13]\ttrain-Accuracy:0.869524+0.00583107\ttrain-error:0.130476+0.00583107\ttest-Accuracy:0.815847+0.0306971\ttest-error:0.184153+0.0306971\n",
      "[14]\ttrain-Accuracy:0.871152+0.00477127\ttrain-error:0.128848+0.00477127\ttest-Accuracy:0.814208+0.029094\ttest-error:0.185792+0.029094\n",
      "[15]\ttrain-Accuracy:0.872419+0.00492511\ttrain-error:0.127581+0.00492511\ttest-Accuracy:0.812568+0.0292016\ttest-error:0.187432+0.0292016\n",
      "[16]\ttrain-Accuracy:0.876582+0.00466331\ttrain-error:0.123418+0.00466331\ttest-Accuracy:0.814208+0.029094\ttest-error:0.185792+0.029094\n",
      "[17]\ttrain-Accuracy:0.877666+0.00508136\ttrain-error:0.122334+0.00508136\ttest-Accuracy:0.815847+0.0332198\ttest-error:0.184153+0.0332198\n",
      "[18]\ttrain-Accuracy:0.879838+0.00480447\ttrain-error:0.120162+0.00480447\ttest-Accuracy:0.814208+0.0317444\ttest-error:0.185792+0.0317444\n",
      "[19]\ttrain-Accuracy:0.88183+0.00673868\ttrain-error:0.11817+0.00673868\ttest-Accuracy:0.809342+0.027011\ttest-error:0.190658+0.027011\n",
      "[20]\ttrain-Accuracy:0.88219+0.00580071\ttrain-error:0.117809+0.00580071\ttest-Accuracy:0.812569+0.0301079\ttest-error:0.187432+0.0301079\n",
      "[21]\ttrain-Accuracy:0.885628+0.00636452\ttrain-error:0.114372+0.00636452\ttest-Accuracy:0.810929+0.0292169\ttest-error:0.189071+0.0292169\n",
      "[22]\ttrain-Accuracy:0.887076+0.0058445\ttrain-error:0.112924+0.0058445\ttest-Accuracy:0.809342+0.027011\ttest-error:0.190658+0.027011\n",
      "[23]\ttrain-Accuracy:0.886895+0.00697922\ttrain-error:0.113105+0.00697922\ttest-Accuracy:0.809342+0.027011\ttest-error:0.190658+0.027011\n",
      "[24]\ttrain-Accuracy:0.890878+0.00618175\ttrain-error:0.109122+0.00618175\ttest-Accuracy:0.812569+0.0301079\ttest-error:0.187432+0.0301079\n",
      "[25]\ttrain-Accuracy:0.89269+0.00670953\ttrain-error:0.10731+0.00670953\ttest-Accuracy:0.81426+0.0297933\ttest-error:0.18574+0.0297933\n",
      "[26]\ttrain-Accuracy:0.89631+0.0060192\ttrain-error:0.103689+0.0060192\ttest-Accuracy:0.807859+0.0295354\ttest-error:0.192141+0.0295354\n"
     ]
    }
   ],
   "source": [
    "num_rounds = 1000\n",
    "clf_xgb_cv = xgb.cv(params, dtrain, num_rounds, nfold=10, stratified=True, early_stopping_rounds=10, verbose_eval=True, feval=accuracy_metric)"
   ]
  },
  {
   "cell_type": "code",
   "execution_count": 123,
   "metadata": {
    "colab": {
     "autoexec": {
      "startup": false,
      "wait_interval": 0
     },
     "base_uri": "https://localhost:8080/",
     "height": 173,
     "output_extras": [
      {
       "item_id": 1
      }
     ]
    },
    "colab_type": "code",
    "executionInfo": {
     "elapsed": 925,
     "status": "ok",
     "timestamp": 1520274659466,
     "user": {
      "displayName": "supreeth manyam",
      "photoUrl": "//lh4.googleusercontent.com/-aVZz9tAWcOg/AAAAAAAAAAI/AAAAAAAADgo/ujE6nBlZRb4/s50-c-k-no/photo.jpg",
      "userId": "101630335836908726643"
     },
     "user_tz": -330
    },
    "id": "GorlWelMWArp",
    "outputId": "50b2fee9-0130-474d-b0d2-2b40ce482f05",
    "scrolled": true
   },
   "outputs": [
    {
     "data": {
      "text/html": [
       "<div>\n",
       "<style>\n",
       "    .dataframe thead tr:only-child th {\n",
       "        text-align: right;\n",
       "    }\n",
       "\n",
       "    .dataframe thead th {\n",
       "        text-align: left;\n",
       "    }\n",
       "\n",
       "    .dataframe tbody tr th {\n",
       "        vertical-align: top;\n",
       "    }\n",
       "</style>\n",
       "<table border=\"1\" class=\"dataframe\">\n",
       "  <thead>\n",
       "    <tr style=\"text-align: right;\">\n",
       "      <th></th>\n",
       "      <th>test-Accuracy-mean</th>\n",
       "      <th>test-Accuracy-std</th>\n",
       "      <th>test-error-mean</th>\n",
       "      <th>test-error-std</th>\n",
       "      <th>train-Accuracy-mean</th>\n",
       "      <th>train-Accuracy-std</th>\n",
       "      <th>train-error-mean</th>\n",
       "      <th>train-error-std</th>\n",
       "    </tr>\n",
       "  </thead>\n",
       "  <tbody>\n",
       "    <tr>\n",
       "      <th>13</th>\n",
       "      <td>0.815847</td>\n",
       "      <td>0.030697</td>\n",
       "      <td>0.184153</td>\n",
       "      <td>0.030697</td>\n",
       "      <td>0.869524</td>\n",
       "      <td>0.005831</td>\n",
       "      <td>0.130476</td>\n",
       "      <td>0.005831</td>\n",
       "    </tr>\n",
       "    <tr>\n",
       "      <th>14</th>\n",
       "      <td>0.814208</td>\n",
       "      <td>0.029094</td>\n",
       "      <td>0.185792</td>\n",
       "      <td>0.029094</td>\n",
       "      <td>0.871152</td>\n",
       "      <td>0.004771</td>\n",
       "      <td>0.128848</td>\n",
       "      <td>0.004771</td>\n",
       "    </tr>\n",
       "    <tr>\n",
       "      <th>15</th>\n",
       "      <td>0.812568</td>\n",
       "      <td>0.029202</td>\n",
       "      <td>0.187432</td>\n",
       "      <td>0.029202</td>\n",
       "      <td>0.872419</td>\n",
       "      <td>0.004925</td>\n",
       "      <td>0.127581</td>\n",
       "      <td>0.004925</td>\n",
       "    </tr>\n",
       "    <tr>\n",
       "      <th>16</th>\n",
       "      <td>0.814208</td>\n",
       "      <td>0.029094</td>\n",
       "      <td>0.185792</td>\n",
       "      <td>0.029094</td>\n",
       "      <td>0.876582</td>\n",
       "      <td>0.004663</td>\n",
       "      <td>0.123418</td>\n",
       "      <td>0.004663</td>\n",
       "    </tr>\n",
       "    <tr>\n",
       "      <th>17</th>\n",
       "      <td>0.815847</td>\n",
       "      <td>0.033220</td>\n",
       "      <td>0.184153</td>\n",
       "      <td>0.033220</td>\n",
       "      <td>0.877666</td>\n",
       "      <td>0.005081</td>\n",
       "      <td>0.122334</td>\n",
       "      <td>0.005081</td>\n",
       "    </tr>\n",
       "  </tbody>\n",
       "</table>\n",
       "</div>"
      ],
      "text/plain": [
       "    test-Accuracy-mean  test-Accuracy-std  test-error-mean  test-error-std  \\\n",
       "13            0.815847           0.030697         0.184153        0.030697   \n",
       "14            0.814208           0.029094         0.185792        0.029094   \n",
       "15            0.812568           0.029202         0.187432        0.029202   \n",
       "16            0.814208           0.029094         0.185792        0.029094   \n",
       "17            0.815847           0.033220         0.184153        0.033220   \n",
       "\n",
       "    train-Accuracy-mean  train-Accuracy-std  train-error-mean  train-error-std  \n",
       "13             0.869524            0.005831          0.130476         0.005831  \n",
       "14             0.871152            0.004771          0.128848         0.004771  \n",
       "15             0.872419            0.004925          0.127581         0.004925  \n",
       "16             0.876582            0.004663          0.123418         0.004663  \n",
       "17             0.877666            0.005081          0.122334         0.005081  "
      ]
     },
     "execution_count": 123,
     "metadata": {},
     "output_type": "execute_result"
    }
   ],
   "source": [
    "clf_xgb_cv.tail()"
   ]
  },
  {
   "cell_type": "code",
   "execution_count": 124,
   "metadata": {
    "colab": {
     "autoexec": {
      "startup": false,
      "wait_interval": 0
     },
     "base_uri": "https://localhost:8080/",
     "height": 51,
     "output_extras": [
      {
       "item_id": 1
      }
     ]
    },
    "colab_type": "code",
    "executionInfo": {
     "elapsed": 858,
     "status": "ok",
     "timestamp": 1520274662201,
     "user": {
      "displayName": "supreeth manyam",
      "photoUrl": "//lh4.googleusercontent.com/-aVZz9tAWcOg/AAAAAAAAAAI/AAAAAAAADgo/ujE6nBlZRb4/s50-c-k-no/photo.jpg",
      "userId": "101630335836908726643"
     },
     "user_tz": -330
    },
    "id": "wgkOPKOOMGLF",
    "outputId": "429a3c8c-aac1-4d19-a9dc-90b6deace0b3"
   },
   "outputs": [
    {
     "name": "stdout",
     "output_type": "stream",
     "text": [
      "[0]\ttrain-error:0.154723\ttrain-Accuracy:0.845277\n",
      "[3]\ttrain-error:0.143322\ttrain-Accuracy:0.856678\n"
     ]
    }
   ],
   "source": [
    "num_rounds = 4\n",
    "watchlist = [(dtrain, 'train')]\n",
    "clf_xgb = xgb.train(params, dtrain, num_rounds, evals=watchlist, verbose_eval=5, feval=accuracy_metric, maximize=True)"
   ]
  },
  {
   "cell_type": "code",
   "execution_count": 125,
   "metadata": {
    "colab": {
     "autoexec": {
      "startup": false,
      "wait_interval": 0
     }
    },
    "colab_type": "code",
    "collapsed": true,
    "id": "lNo493uRNkBV"
   },
   "outputs": [],
   "source": [
    "xgb_preds = clf_xgb.predict(dtest)\n",
    "test_preds = np.where(xgb_preds > 0.5, 'Y', 'N')"
   ]
  },
  {
   "cell_type": "code",
   "execution_count": 126,
   "metadata": {
    "colab": {
     "autoexec": {
      "startup": false,
      "wait_interval": 0
     },
     "base_uri": "https://localhost:8080/",
     "height": 204,
     "output_extras": [
      {
       "item_id": 1
      }
     ]
    },
    "colab_type": "code",
    "executionInfo": {
     "elapsed": 719,
     "status": "ok",
     "timestamp": 1520274665482,
     "user": {
      "displayName": "supreeth manyam",
      "photoUrl": "//lh4.googleusercontent.com/-aVZz9tAWcOg/AAAAAAAAAAI/AAAAAAAADgo/ujE6nBlZRb4/s50-c-k-no/photo.jpg",
      "userId": "101630335836908726643"
     },
     "user_tz": -330
    },
    "id": "jTXay3rLN7_X",
    "outputId": "04aba7e2-4f3a-4019-f855-2539a09c1777"
   },
   "outputs": [
    {
     "data": {
      "text/html": [
       "<div>\n",
       "<style>\n",
       "    .dataframe thead tr:only-child th {\n",
       "        text-align: right;\n",
       "    }\n",
       "\n",
       "    .dataframe thead th {\n",
       "        text-align: left;\n",
       "    }\n",
       "\n",
       "    .dataframe tbody tr th {\n",
       "        vertical-align: top;\n",
       "    }\n",
       "</style>\n",
       "<table border=\"1\" class=\"dataframe\">\n",
       "  <thead>\n",
       "    <tr style=\"text-align: right;\">\n",
       "      <th></th>\n",
       "      <th>Loan_ID</th>\n",
       "      <th>Loan_Status</th>\n",
       "    </tr>\n",
       "  </thead>\n",
       "  <tbody>\n",
       "    <tr>\n",
       "      <th>0</th>\n",
       "      <td>LP001015</td>\n",
       "      <td>Y</td>\n",
       "    </tr>\n",
       "    <tr>\n",
       "      <th>1</th>\n",
       "      <td>LP001022</td>\n",
       "      <td>Y</td>\n",
       "    </tr>\n",
       "    <tr>\n",
       "      <th>2</th>\n",
       "      <td>LP001031</td>\n",
       "      <td>Y</td>\n",
       "    </tr>\n",
       "    <tr>\n",
       "      <th>3</th>\n",
       "      <td>LP001035</td>\n",
       "      <td>Y</td>\n",
       "    </tr>\n",
       "    <tr>\n",
       "      <th>4</th>\n",
       "      <td>LP001051</td>\n",
       "      <td>Y</td>\n",
       "    </tr>\n",
       "  </tbody>\n",
       "</table>\n",
       "</div>"
      ],
      "text/plain": [
       "    Loan_ID Loan_Status\n",
       "0  LP001015           Y\n",
       "1  LP001022           Y\n",
       "2  LP001031           Y\n",
       "3  LP001035           Y\n",
       "4  LP001051           Y"
      ]
     },
     "execution_count": 126,
     "metadata": {},
     "output_type": "execute_result"
    }
   ],
   "source": [
    "submit2 = pd.DataFrame({'Loan_ID': X_test['Loan_ID'], 'Loan_Status': test_preds});submit.head()"
   ]
  },
  {
   "cell_type": "code",
   "execution_count": 127,
   "metadata": {
    "colab": {
     "autoexec": {
      "startup": false,
      "wait_interval": 0
     },
     "base_uri": "https://localhost:8080/",
     "height": 68,
     "output_extras": [
      {
       "item_id": 1
      }
     ]
    },
    "colab_type": "code",
    "executionInfo": {
     "elapsed": 1069,
     "status": "ok",
     "timestamp": 1520274667842,
     "user": {
      "displayName": "supreeth manyam",
      "photoUrl": "//lh4.googleusercontent.com/-aVZz9tAWcOg/AAAAAAAAAAI/AAAAAAAADgo/ujE6nBlZRb4/s50-c-k-no/photo.jpg",
      "userId": "101630335836908726643"
     },
     "user_tz": -330
    },
    "id": "sdfj7ScJOmlY",
    "outputId": "7eb4a726-d1af-43a8-80b4-bd2d5dd2bff7"
   },
   "outputs": [
    {
     "data": {
      "text/plain": [
       "Y    0.80654\n",
       "N    0.19346\n",
       "Name: Loan_Status, dtype: float64"
      ]
     },
     "execution_count": 127,
     "metadata": {},
     "output_type": "execute_result"
    }
   ],
   "source": [
    "submit2.Loan_Status.value_counts(normalize=True)"
   ]
  },
  {
   "cell_type": "code",
   "execution_count": 128,
   "metadata": {
    "collapsed": true
   },
   "outputs": [],
   "source": [
    "submit2.to_csv(\"XGB2.csv\",index=False)"
   ]
  },
  {
   "cell_type": "code",
   "execution_count": 129,
   "metadata": {
    "colab": {
     "autoexec": {
      "startup": false,
      "wait_interval": 0
     }
    },
    "colab_type": "code",
    "collapsed": true,
    "id": "iYigYQswOslY"
   },
   "outputs": [],
   "source": [
    "%matplotlib inline"
   ]
  },
  {
   "cell_type": "code",
   "execution_count": 47,
   "metadata": {
    "colab": {
     "autoexec": {
      "startup": false,
      "wait_interval": 0
     }
    },
    "colab_type": "code",
    "collapsed": true,
    "id": "4iPwK0NLYOe5"
   },
   "outputs": [],
   "source": [
    "from matplotlib import pyplot as plt"
   ]
  },
  {
   "cell_type": "code",
   "execution_count": 48,
   "metadata": {
    "colab": {
     "autoexec": {
      "startup": false,
      "wait_interval": 0
     }
    },
    "colab_type": "code",
    "collapsed": true,
    "id": "XnRfy62qXDlW"
   },
   "outputs": [],
   "source": [
    "feat_imp = pd.DataFrame(list(clf_xgb.get_fscore().items()), columns=['Feature', 'Score']).set_index('Feature').sort_values(by='Score', ascending=True)"
   ]
  },
  {
   "cell_type": "code",
   "execution_count": 49,
   "metadata": {
    "colab": {
     "autoexec": {
      "startup": false,
      "wait_interval": 0
     },
     "base_uri": "https://localhost:8080/",
     "height": 592,
     "output_extras": [
      {
       "item_id": 1
      }
     ]
    },
    "colab_type": "code",
    "executionInfo": {
     "elapsed": 1015,
     "status": "ok",
     "timestamp": 1520274674393,
     "user": {
      "displayName": "supreeth manyam",
      "photoUrl": "//lh4.googleusercontent.com/-aVZz9tAWcOg/AAAAAAAAAAI/AAAAAAAADgo/ujE6nBlZRb4/s50-c-k-no/photo.jpg",
      "userId": "101630335836908726643"
     },
     "user_tz": -330
    },
    "id": "Qztdf_RMXGTk",
    "outputId": "e8de008e-f9de-409f-e9b5-69181e70849d"
   },
   "outputs": [
    {
     "data": {
      "image/png": "[encoded data removed]",
      "text/plain": [
       "<matplotlib.figure.Figure at 0xe66e47a358>"
      ]
     },
     "metadata": {},
     "output_type": "display_data"
    }
   ],
   "source": [
    "plt.figure(figsize=(20,10))\n",
    "feat_imp['Score'].plot('barh');"
   ]
  },
  {
   "cell_type": "code",
   "execution_count": 0,
   "metadata": {
    "colab": {
     "autoexec": {
      "startup": false,
      "wait_interval": 0
     }
    },
    "colab_type": "code",
    "collapsed": true,
    "id": "rvgO5jCrYIhs"
   },
   "outputs": [],
   "source": [
    "from sklearn.ensemble import RandomForestClassifier"
   ]
  },
  {
   "cell_type": "code",
   "execution_count": 0,
   "metadata": {
    "colab": {
     "autoexec": {
      "startup": false,
      "wait_interval": 0
     }
    },
    "colab_type": "code",
    "collapsed": true,
    "id": "wRkgnd_bZkPF"
   },
   "outputs": [],
   "source": [
    "rf = RandomForestClassifier(n_estimators=20)"
   ]
  },
  {
   "cell_type": "code",
   "execution_count": 34,
   "metadata": {
    "colab": {
     "autoexec": {
      "startup": false,
      "wait_interval": 0
     },
     "base_uri": "https://localhost:8080/",
     "height": 136,
     "output_extras": [
      {
       "item_id": 1
      }
     ]
    },
    "colab_type": "code",
    "executionInfo": {
     "elapsed": 987,
     "status": "ok",
     "timestamp": 1520274680740,
     "user": {
      "displayName": "supreeth manyam",
      "photoUrl": "//lh4.googleusercontent.com/-aVZz9tAWcOg/AAAAAAAAAAI/AAAAAAAADgo/ujE6nBlZRb4/s50-c-k-no/photo.jpg",
      "userId": "101630335836908726643"
     },
     "user_tz": -330
    },
    "id": "IPp6qFUFZrEQ",
    "outputId": "3e55b470-8f60-4540-f1be-ecbd0b930a65"
   },
   "outputs": [
    {
     "data": {
      "text/plain": [
       "RandomForestClassifier(bootstrap=True, class_weight=None, criterion='gini',\n",
       "            max_depth=None, max_features='auto', max_leaf_nodes=None,\n",
       "            min_impurity_decrease=0.0, min_impurity_split=None,\n",
       "            min_samples_leaf=1, min_samples_split=2,\n",
       "            min_weight_fraction_leaf=0.0, n_estimators=20, n_jobs=1,\n",
       "            oob_score=False, random_state=None, verbose=0,\n",
       "            warm_start=False)"
      ]
     },
     "execution_count": 34,
     "metadata": {
      "tags": []
     },
     "output_type": "execute_result"
    }
   ],
   "source": [
    "rf.fit(X_train[cols_for_model], X_train['Loan_Status'])"
   ]
  },
  {
   "cell_type": "code",
   "execution_count": 0,
   "metadata": {
    "colab": {
     "autoexec": {
      "startup": false,
      "wait_interval": 0
     }
    },
    "colab_type": "code",
    "collapsed": true,
    "id": "X0SmJJ43aFhU"
   },
   "outputs": [],
   "source": [
    "rf_preds = rf.predict_proba(X_test[cols_for_model])[:, 1]"
   ]
  },
  {
   "cell_type": "code",
   "execution_count": 41,
   "metadata": {
    "colab": {
     "autoexec": {
      "startup": false,
      "wait_interval": 0
     },
     "base_uri": "https://localhost:8080/",
     "height": 34,
     "output_extras": [
      {
       "item_id": 1
      }
     ]
    },
    "colab_type": "code",
    "executionInfo": {
     "elapsed": 1026,
     "status": "ok",
     "timestamp": 1520274781397,
     "user": {
      "displayName": "supreeth manyam",
      "photoUrl": "//lh4.googleusercontent.com/-aVZz9tAWcOg/AAAAAAAAAAI/AAAAAAAADgo/ujE6nBlZRb4/s50-c-k-no/photo.jpg",
      "userId": "101630335836908726643"
     },
     "user_tz": -330
    },
    "id": "RaJ8OjSXa7S6",
    "outputId": "bf2e7e7c-b562-4259-9c6e-cc5c6c050ec6"
   },
   "outputs": [
    {
     "data": {
      "text/plain": [
       "0.8508835130048296"
      ]
     },
     "execution_count": 41,
     "metadata": {
      "tags": []
     },
     "output_type": "execute_result"
    }
   ],
   "source": [
    "pd.Series(xgb_preds).corr(pd.Series(rf_preds))"
   ]
  },
  {
   "cell_type": "code",
   "execution_count": 0,
   "metadata": {
    "colab": {
     "autoexec": {
      "startup": false,
      "wait_interval": 0
     }
    },
    "colab_type": "code",
    "collapsed": true,
    "id": "Stfda5_6bZdX"
   },
   "outputs": [],
   "source": []
  }
 ],
 "metadata": {
  "colab": {
   "collapsed_sections": [],
   "default_view": {},
   "name": "XGB session",
   "provenance": [],
   "version": "0.3.2",
   "views": {}
  },
  "kernelspec": {
   "display_name": "Python 3",
   "language": "python",
   "name": "python3"
  },
  "language_info": {
   "codemirror_mode": {
    "name": "ipython",
    "version": 3
   },
   "file_extension": ".py",
   "mimetype": "text/x-python",
   "name": "python",
   "nbconvert_exporter": "python",
   "pygments_lexer": "ipython3",
   "version": "3.6.3"
  }
 },
 "nbformat": 4,
 "nbformat_minor": 1
}
